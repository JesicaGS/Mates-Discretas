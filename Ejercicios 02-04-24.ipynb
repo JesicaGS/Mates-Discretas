{
 "cells": [
  {
   "cell_type": "markdown",
   "id": "0baf26c3",
   "metadata": {},
   "source": [
    "# Teoría de Conjuntos\n",
    "\n",
    "La teoría de conjuntos es una rama de las matemáticas (y de la lógica) que se dedica a estudiar las características de los conjuntos y las operaciones que pueden efectuarse entre ellos.\n",
    "\n",
    "## Creación de conjuntos\n",
    "\n",
    "En Python, puedes crear un conjunto utilizando llaves {} o la función set()\n"
   ]
  },
  {
   "cell_type": "code",
   "execution_count": 1,
   "id": "20b0b156",
   "metadata": {},
   "outputs": [],
   "source": [
    "A = {1, 2, 3, 4, 5}"
   ]
  },
  {
   "cell_type": "code",
   "execution_count": 2,
   "id": "adf1c605",
   "metadata": {},
   "outputs": [],
   "source": [
    "B = {3, 4, 5, 6, 7}"
   ]
  },
  {
   "cell_type": "code",
   "execution_count": 3,
   "id": "cc81b671",
   "metadata": {},
   "outputs": [],
   "source": [
    "C = set([3, 6, 9, 12, 15])"
   ]
  },
  {
   "cell_type": "code",
   "execution_count": 4,
   "id": "f8b65f66",
   "metadata": {},
   "outputs": [],
   "source": [
    "lista = [1, 2 , 3, 4, 5, 1, 2, 3, 4, 5]"
   ]
  },
  {
   "cell_type": "code",
   "execution_count": 5,
   "id": "b663c6bc",
   "metadata": {},
   "outputs": [
    {
     "data": {
      "text/plain": [
       "[1, 2, 3, 4, 5, 1, 2, 3, 4, 5]"
      ]
     },
     "execution_count": 5,
     "metadata": {},
     "output_type": "execute_result"
    }
   ],
   "source": [
    "lista"
   ]
  },
  {
   "cell_type": "code",
   "execution_count": 6,
   "id": "cb60a7b5",
   "metadata": {},
   "outputs": [],
   "source": [
    "conjunto = set(lista)"
   ]
  },
  {
   "cell_type": "code",
   "execution_count": 7,
   "id": "bd439708",
   "metadata": {},
   "outputs": [
    {
     "data": {
      "text/plain": [
       "{1, 2, 3, 4, 5}"
      ]
     },
     "execution_count": 7,
     "metadata": {},
     "output_type": "execute_result"
    }
   ],
   "source": [
    "conjunto"
   ]
  },
  {
   "cell_type": "markdown",
   "id": "ed054986",
   "metadata": {},
   "source": [
    "# Operaciones\n",
    "\n",
    "\n",
    "## Unión\n",
    "\n",
    "La unión de conjuntos es una operación que combina todos los elementos únicos de dos o más conjuntos en un nuevo conjunto.\n",
    "\n",
    "$$\n",
    "    C = A \\cup B = (x:x \\in A \\quad ó \\quad x \\in B)\n",
    "$$\n",
    "\n",
    "En Python, la operación de unión puede realizarse utilizando el operador | o el método union()\n"
   ]
  },
  {
   "cell_type": "code",
   "execution_count": 8,
   "id": "ab35d742",
   "metadata": {},
   "outputs": [
    {
     "data": {
      "text/plain": [
       "{1, 2, 3, 4, 5, 6, 7}"
      ]
     },
     "execution_count": 8,
     "metadata": {},
     "output_type": "execute_result"
    }
   ],
   "source": [
    "A | B"
   ]
  },
  {
   "cell_type": "code",
   "execution_count": 9,
   "id": "554f5a5b",
   "metadata": {},
   "outputs": [
    {
     "data": {
      "text/plain": [
       "{1, 2, 3, 4, 5, 6, 7}"
      ]
     },
     "execution_count": 9,
     "metadata": {},
     "output_type": "execute_result"
    }
   ],
   "source": [
    "A.union(B)"
   ]
  },
  {
   "cell_type": "markdown",
   "id": "36875c8b",
   "metadata": {},
   "source": [
    "## Intersección \n",
    "\n",
    "La intersección de conjuntos es una operación que devuelve un nuevo conjunto que contiene únicamente los elementos comunes a dos o más conjuntos. Se seleccionan aquellos elementos que están presentes en todos los conjuntos involucrados en la operación de intersección.\n",
    "\n",
    "$$\n",
    "    A \\cap B = (x:x \\in A \\quad  \\wedge  x  \\quad \\in B)\n",
    "$$"
   ]
  },
  {
   "cell_type": "code",
   "execution_count": 11,
   "id": "25cb0371",
   "metadata": {},
   "outputs": [
    {
     "data": {
      "text/plain": [
       "{3, 4, 5}"
      ]
     },
     "execution_count": 11,
     "metadata": {},
     "output_type": "execute_result"
    }
   ],
   "source": [
    "A & B"
   ]
  },
  {
   "cell_type": "markdown",
   "id": "3a7c1d66",
   "metadata": {},
   "source": [
    "## Diferencia\n",
    "\n",
    "Sean A y B dos conjuntos cualesquiera subconjuntos del Conjunto Universal, se define su diferencia como el conjuntos formado por todos los elementos del universo tales que éstos pertenecen al primer conjunto pero no pertenecen al segundo conjuntos. \n",
    "\n",
    "$$\n",
    "    A - B = (x \\in U/ \\quad x \\in A \\wedge x \\quad \\notin B)\n",
    "$$"
   ]
  },
  {
   "cell_type": "code",
   "execution_count": 12,
   "id": "93b1a1c9",
   "metadata": {},
   "outputs": [
    {
     "data": {
      "text/plain": [
       "{1, 2}"
      ]
     },
     "execution_count": 12,
     "metadata": {},
     "output_type": "execute_result"
    }
   ],
   "source": [
    "A - B"
   ]
  },
  {
   "cell_type": "markdown",
   "id": "28e9a173",
   "metadata": {},
   "source": [
    "## Diferencia Simetrica \n",
    "\n",
    "La diferencia simétrica es el conjunto de elementos que solo pertenecen a A o a B pero no a ambos a la vez.\n",
    "\n",
    "$$\n",
    "    A \\triangle B = \\left\\lbrace{x/(x \\in A y x \\notin B) \\quad o \\quad (x \\in B y x \\notin A)}\\right\\rbrace\n",
    "$$\n"
   ]
  },
  {
   "cell_type": "code",
   "execution_count": 13,
   "id": "f2ba1187",
   "metadata": {},
   "outputs": [
    {
     "data": {
      "text/plain": [
       "{1, 2, 6, 7}"
      ]
     },
     "execution_count": 13,
     "metadata": {},
     "output_type": "execute_result"
    }
   ],
   "source": [
    "A ^ B "
   ]
  },
  {
   "cell_type": "code",
   "execution_count": null,
   "id": "9db0990f",
   "metadata": {},
   "outputs": [],
   "source": []
  }
 ],
 "metadata": {
  "kernelspec": {
   "display_name": "Python 3 (ipykernel)",
   "language": "python",
   "name": "python3"
  },
  "language_info": {
   "codemirror_mode": {
    "name": "ipython",
    "version": 3
   },
   "file_extension": ".py",
   "mimetype": "text/x-python",
   "name": "python",
   "nbconvert_exporter": "python",
   "pygments_lexer": "ipython3",
   "version": "3.11.5"
  }
 },
 "nbformat": 4,
 "nbformat_minor": 5
}
